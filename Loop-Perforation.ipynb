{
 "cells": [
  {
   "cell_type": "code",
   "execution_count": 3,
   "id": "e0c45116-0b12-49f8-b251-1b93349a8182",
   "metadata": {},
   "outputs": [],
   "source": [
    "import random\n",
    "\n",
    "# Variables\n",
    "end_count = 10\n",
    "\n",
    "def task(count):\n",
    "    result = count + random.randrange(10)\n",
    "    print(\"Task #\", count)\n",
    "    return result\n",
    "\n",
    "\n",
    "def loop_standard():\n",
    "    for count in range(1, end_count+1):\n",
    "        task(count)"
   ]
  },
  {
   "cell_type": "code",
   "execution_count": 10,
   "id": "a7d1be40-5851-44c4-bb76-a94c57f71dac",
   "metadata": {},
   "outputs": [],
   "source": [
    "def loop_perforation(n1):\n",
    "    try:\n",
    "        for count in range(1, end_count+1, n1):\n",
    "            task(count)\n",
    "    except:\n",
    "      print(\"Error. Please, check that your input number is a non null integer!\")\n",
    "        #if (count%3):\n",
    "        #    task(count)"
   ]
  },
  {
   "cell_type": "code",
   "execution_count": 11,
   "id": "2bca6d76",
   "metadata": {},
   "outputs": [
    {
     "name": "stdout",
     "output_type": "stream",
     "text": [
      "Task # 1\n",
      "Task # 2\n",
      "Task # 3\n",
      "Task # 4\n",
      "Task # 5\n",
      "Task # 6\n",
      "Task # 7\n",
      "Task # 8\n",
      "Task # 9\n",
      "Task # 10\n"
     ]
    }
   ],
   "source": [
    "loop_standard()"
   ]
  },
  {
   "cell_type": "code",
   "execution_count": 12,
   "id": "c7a30a18",
   "metadata": {},
   "outputs": [
    {
     "name": "stdout",
     "output_type": "stream",
     "text": [
      "Task # 1\n",
      "Task # 2\n",
      "Task # 4\n",
      "Task # 5\n",
      "Task # 7\n",
      "Task # 8\n",
      "Task # 10\n"
     ]
    }
   ],
   "source": [
    "n1 = 2\n",
    "loop_perforation(n1)"
   ]
  },
  {
   "cell_type": "code",
   "execution_count": null,
   "id": "f3a3cc2c",
   "metadata": {},
   "outputs": [],
   "source": []
  }
 ],
 "metadata": {
  "kernelspec": {
   "display_name": "Python 3 (ipykernel)",
   "language": "python",
   "name": "python3"
  },
  "language_info": {
   "codemirror_mode": {
    "name": "ipython",
    "version": 3
   },
   "file_extension": ".py",
   "mimetype": "text/x-python",
   "name": "python",
   "nbconvert_exporter": "python",
   "pygments_lexer": "ipython3",
   "version": "3.9.13"
  }
 },
 "nbformat": 4,
 "nbformat_minor": 5
}
