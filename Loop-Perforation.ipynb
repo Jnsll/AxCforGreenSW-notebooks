{
 "cells": [
  {
   "cell_type": "code",
   "execution_count": 1,
   "id": "45706279-668d-4cf8-a273-57585fec356f",
   "metadata": {},
   "outputs": [],
   "source": [
    "import subprocess"
   ]
  },
  {
   "cell_type": "code",
   "execution_count": 2,
   "id": "e0c45116-0b12-49f8-b251-1b93349a8182",
   "metadata": {},
   "outputs": [],
   "source": [
    "import random\n",
    "\n",
    "def task(count):\n",
    "    result = count + random.randrange(10)\n",
    "    print(\"Task #\", count)\n",
    "    return result\n",
    "\n",
    "\n",
    "def loop_reference(number_iterations):\n",
    "    for count in range(1, number_iterations+1):\n",
    "        task(count)"
   ]
  },
  {
   "cell_type": "code",
   "execution_count": 3,
   "id": "2bca6d76",
   "metadata": {},
   "outputs": [
    {
     "name": "stdout",
     "output_type": "stream",
     "text": [
      "Task # 1\n",
      "Task # 2\n",
      "Task # 3\n",
      "Task # 4\n",
      "Task # 5\n",
      "Task # 6\n",
      "Task # 7\n",
      "Task # 8\n",
      "Task # 9\n",
      "Task # 10\n"
     ]
    }
   ],
   "source": [
    "# Variables\n",
    "number_iterations = 10\n",
    "\n",
    "\n",
    "loop_reference(number_iterations)"
   ]
  },
  {
   "cell_type": "code",
   "execution_count": 4,
   "id": "a7d1be40-5851-44c4-bb76-a94c57f71dac",
   "metadata": {},
   "outputs": [],
   "source": [
    "def loop_perforation(number_iterations, perforation_step):\n",
    "    # Implement the perforation of the code of the loop reference\n",
    "    for count in range(1, number_iterations+1, perforation_step):\n",
    "        task(count)"
   ]
  },
  {
   "cell_type": "code",
   "execution_count": 5,
   "id": "d1b10256-52ba-48b3-85b1-167222f4a3e6",
   "metadata": {},
   "outputs": [],
   "source": [
    "# Variables\n",
    "number_iterations = 10\n",
    "perforation_step = 2"
   ]
  },
  {
   "cell_type": "code",
   "execution_count": 6,
   "id": "c7a30a18",
   "metadata": {},
   "outputs": [
    {
     "name": "stdout",
     "output_type": "stream",
     "text": [
      "Task # 1\n",
      "Task # 3\n",
      "Task # 5\n",
      "Task # 7\n",
      "Task # 9\n"
     ]
    }
   ],
   "source": [
    "loop_perforation(number_iterations, perforation_step)"
   ]
  },
  {
   "cell_type": "code",
   "execution_count": 7,
   "id": "bee8e325-6884-4072-a761-073e75a9da06",
   "metadata": {},
   "outputs": [],
   "source": [
    "def measure_energy_and_time_loop(use_case, number_iterations, perforation_step):\n",
    "    try:\n",
    "        subprocess.run([\"EnergiBridge/energibridge\", \"--summary\", \"--output\", \"energy_metrics.csv\", \"python\", \"running_loop.py\", str(use_case), str(number_iterations), str(perforation_step)], \n",
    "                     capture_output=False)\n",
    "    except:\n",
    "        print(\"Error. The execution has not been properly done.\")"
   ]
  },
  {
   "cell_type": "code",
   "execution_count": 11,
   "id": "7de1bcaf-877d-4bf9-8ab2-0fefbb0b3e3d",
   "metadata": {},
   "outputs": [],
   "source": [
    "# Variables\n",
    "number_iterations = 10000\n",
    "perforation_step = 3"
   ]
  },
  {
   "cell_type": "code",
   "execution_count": 12,
   "id": "3ed28998-bfe6-408a-9382-7303a9d91943",
   "metadata": {},
   "outputs": [
    {
     "name": "stdout",
     "output_type": "stream",
     "text": [
      "Energy consumption in joules: 2.838529245376587 for 0.22648704 sec of execution.\n"
     ]
    }
   ],
   "source": [
    "use_case = \"reference\"\n",
    "measure_energy_and_time_loop(use_case, number_iterations, perforation_step)"
   ]
  },
  {
   "cell_type": "code",
   "execution_count": 13,
   "id": "fd697c73-9173-491a-9fd2-554185d8a1ad",
   "metadata": {
    "scrolled": true
   },
   "outputs": [
    {
     "name": "stdout",
     "output_type": "stream",
     "text": [
      "Energy consumption in joules: 2.7025379896163937 for 0.2314389 sec of execution.\n"
     ]
    }
   ],
   "source": [
    "use_case = \"perforation\"\n",
    "measure_energy_and_time_loop(use_case, number_iterations, perforation_step)"
   ]
  },
  {
   "cell_type": "code",
   "execution_count": null,
   "id": "cc3aa742-8dfc-408a-8fa4-0bfa84d3ac97",
   "metadata": {},
   "outputs": [],
   "source": []
  },
  {
   "cell_type": "code",
   "execution_count": null,
   "id": "13792d08-f00e-4b9d-b8d0-7c3ad8d6c775",
   "metadata": {},
   "outputs": [],
   "source": []
  }
 ],
 "metadata": {
  "kernelspec": {
   "display_name": "Python 3 (ipykernel)",
   "language": "python",
   "name": "python3"
  },
  "language_info": {
   "codemirror_mode": {
    "name": "ipython",
    "version": 3
   },
   "file_extension": ".py",
   "mimetype": "text/x-python",
   "name": "python",
   "nbconvert_exporter": "python",
   "pygments_lexer": "ipython3",
   "version": "3.9.13"
  }
 },
 "nbformat": 4,
 "nbformat_minor": 5
}
